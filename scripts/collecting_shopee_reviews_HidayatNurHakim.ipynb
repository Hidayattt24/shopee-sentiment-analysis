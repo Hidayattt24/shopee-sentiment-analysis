{
  "nbformat": 4,
  "nbformat_minor": 0,
  "metadata": {
    "colab": {
      "provenance": []
    },
    "kernelspec": {
      "name": "python3",
      "display_name": "Python 3"
    },
    "language_info": {
      "name": "python"
    }
  },
  "cells": [
    {
      "cell_type": "markdown",
      "source": [
        "# Pengambilan dan Analisis Review Aplikasi Shopee dari Google Play Store\n",
        "\n",
        "## Instalasi Library"
      ],
      "metadata": {
        "id": "S-kmXjD0fLWV"
      }
    },
    {
      "cell_type": "code",
      "execution_count": null,
      "metadata": {
        "colab": {
          "base_uri": "https://localhost:8080/"
        },
        "id": "TtG4z75WfCKo",
        "outputId": "6894fd8f-2b42-48fe-ef1d-50d5cd873b69"
      },
      "outputs": [
        {
          "output_type": "stream",
          "name": "stdout",
          "text": [
            "Collecting google-play-scraper\n",
            "  Downloading google_play_scraper-1.2.7-py3-none-any.whl.metadata (50 kB)\n",
            "\u001b[2K     \u001b[90m━━━━━━━━━━━━━━━━━━━━━━━━━━━━━━━━━━━━━━━━\u001b[0m \u001b[32m50.2/50.2 kB\u001b[0m \u001b[31m3.4 MB/s\u001b[0m eta \u001b[36m0:00:00\u001b[0m\n",
            "\u001b[?25hDownloading google_play_scraper-1.2.7-py3-none-any.whl (28 kB)\n",
            "Installing collected packages: google-play-scraper\n",
            "Successfully installed google-play-scraper-1.2.7\n"
          ]
        }
      ],
      "source": [
        "!pip install google-play-scraper"
      ]
    },
    {
      "cell_type": "markdown",
      "source": [
        "Import Library"
      ],
      "metadata": {
        "id": "Qa0mBSn1fhNk"
      }
    },
    {
      "cell_type": "code",
      "source": [
        "from google_play_scraper import app\n",
        "import pandas as pd\n",
        "import numpy as np\n",
        "from google_play_scraper import Sort, reviews"
      ],
      "metadata": {
        "id": "G-iapphyfFQl"
      },
      "execution_count": null,
      "outputs": []
    },
    {
      "cell_type": "markdown",
      "source": [
        "Pengambilan Data Review"
      ],
      "metadata": {
        "id": "5kEQoP-nf73v"
      }
    },
    {
      "cell_type": "code",
      "source": [
        "from google_play_scraper import reviews, Sort\n",
        "import pandas as pd\n",
        "import time\n",
        "\n",
        "app_id = 'com.shopee.id'  # ID aplikasi Shopee\n",
        "total_reviews = 5000  # Target jumlah ulasan\n",
        "all_reviews = []  # Menyimpan semua ulasan\n",
        "continuation_token = None  # Token untuk paginasi\n",
        "\n",
        "while len(all_reviews) < total_reviews:\n",
        "    result, continuation_token = reviews(\n",
        "        app_id,\n",
        "        lang='id',\n",
        "        country='id',\n",
        "        sort=Sort.MOST_RELEVANT,\n",
        "        count=min(5000, total_reviews - len(all_reviews)),  # Ambil sisa yang dibutuhkan\n",
        "        continuation_token=continuation_token  # Ambil halaman berikutnya\n",
        "    )\n",
        "\n",
        "    all_reviews.extend(result)  # Tambahkan ke daftar\n",
        "    print(f\"Total reviews collected: {len(all_reviews)}\")\n",
        "\n",
        "    # Jika tidak ada lagi continuation_token, hentikan loop\n",
        "    if continuation_token is None or len(all_reviews) >= total_reviews:\n",
        "        break\n",
        "\n",
        "    time.sleep(1)  # Tunggu sebentar untuk menghindari rate limit"
      ],
      "metadata": {
        "colab": {
          "base_uri": "https://localhost:8080/"
        },
        "id": "n5yTGI8QfKY7",
        "outputId": "635f185e-fcaa-4e85-81ab-01eedbea5881"
      },
      "execution_count": null,
      "outputs": [
        {
          "output_type": "stream",
          "name": "stdout",
          "text": [
            "Total reviews collected: 5000\n"
          ]
        }
      ]
    },
    {
      "cell_type": "markdown",
      "source": [
        "Simpan dalam DataFrame"
      ],
      "metadata": {
        "id": "M_Ai392uhFXp"
      }
    },
    {
      "cell_type": "code",
      "source": [
        "df_shopee = pd.DataFrame(all_reviews)"
      ],
      "metadata": {
        "id": "9PUXA9hYgoOx"
      },
      "execution_count": null,
      "outputs": []
    },
    {
      "cell_type": "markdown",
      "source": [
        "Menampilkan 5 data teratas"
      ],
      "metadata": {
        "id": "IpbZGu7ehHuz"
      }
    },
    {
      "cell_type": "code",
      "source": [
        "df_shopee.head()"
      ],
      "metadata": {
        "colab": {
          "base_uri": "https://localhost:8080/",
          "height": 449
        },
        "id": "CII4kO79giDd",
        "outputId": "0c5f91b3-437e-464a-d761-8206f491bff7"
      },
      "execution_count": null,
      "outputs": [
        {
          "output_type": "execute_result",
          "data": {
            "text/plain": [
              "                               reviewId         userName  \\\n",
              "0  17579f4a-91f8-4d30-bbb0-be06c4d8b14b  Pengguna Google   \n",
              "1  1fe8a0f9-9aa2-47cd-9a6c-660e64a47552  Pengguna Google   \n",
              "2  bdf64f03-3253-4341-93cc-869809e8e8a0  Pengguna Google   \n",
              "3  534598cc-6c6c-41b0-8825-72f4fbf3dc22  Pengguna Google   \n",
              "4  98ed0c43-86a4-4c02-bae5-7281c9031cb5  Pengguna Google   \n",
              "\n",
              "                                           userImage  \\\n",
              "0  https://play-lh.googleusercontent.com/EGemoI2N...   \n",
              "1  https://play-lh.googleusercontent.com/EGemoI2N...   \n",
              "2  https://play-lh.googleusercontent.com/EGemoI2N...   \n",
              "3  https://play-lh.googleusercontent.com/EGemoI2N...   \n",
              "4  https://play-lh.googleusercontent.com/EGemoI2N...   \n",
              "\n",
              "                                             content  score  thumbsUpCount  \\\n",
              "0  Shopee yang sekarang kualitasnya bagus tetapi ...      1            167   \n",
              "1  Apk belanja yang mudah dan beragam pilihan tok...      4             11   \n",
              "2  Tidak bisa melakukan pembayaran listrik, dan p...      1             69   \n",
              "3  Sudah dua bulan, setiap buka langsung diarahin...      1             71   \n",
              "4  Aplikasi paling ga jelas, hp ku restart ulang ...      1             39   \n",
              "\n",
              "  reviewCreatedVersion                  at  \\\n",
              "0              3.45.60 2025-03-15 13:05:26   \n",
              "1              3.45.60 2025-03-16 04:29:12   \n",
              "2              3.45.60 2025-03-15 14:16:55   \n",
              "3              3.45.60 2025-03-15 05:13:35   \n",
              "4              3.45.60 2025-03-15 08:03:40   \n",
              "\n",
              "                                        replyContent           repliedAt  \\\n",
              "0  Hi Kak Nanda  , maaf ya udah bikin kakak nggak... 2025-03-15 15:03:24   \n",
              "1  Hi Kak Abdul, terima kasih untuk feedbacknya.\\... 2025-03-16 05:32:13   \n",
              "2  Hai kak ichan, maaf ya udh bikin ga nyaman. Ak... 2025-03-15 16:20:52   \n",
              "3  Hi kak Tia Monika, maaf ya udah bikin km ga ny... 2025-03-15 06:15:36   \n",
              "4                                               None                 NaT   \n",
              "\n",
              "  appVersion  \n",
              "0    3.45.60  \n",
              "1    3.45.60  \n",
              "2    3.45.60  \n",
              "3    3.45.60  \n",
              "4    3.45.60  "
            ],
            "text/html": [
              "\n",
              "  <div id=\"df-2c204fb6-481c-4194-946f-ae92cc63c543\" class=\"colab-df-container\">\n",
              "    <div>\n",
              "<style scoped>\n",
              "    .dataframe tbody tr th:only-of-type {\n",
              "        vertical-align: middle;\n",
              "    }\n",
              "\n",
              "    .dataframe tbody tr th {\n",
              "        vertical-align: top;\n",
              "    }\n",
              "\n",
              "    .dataframe thead th {\n",
              "        text-align: right;\n",
              "    }\n",
              "</style>\n",
              "<table border=\"1\" class=\"dataframe\">\n",
              "  <thead>\n",
              "    <tr style=\"text-align: right;\">\n",
              "      <th></th>\n",
              "      <th>reviewId</th>\n",
              "      <th>userName</th>\n",
              "      <th>userImage</th>\n",
              "      <th>content</th>\n",
              "      <th>score</th>\n",
              "      <th>thumbsUpCount</th>\n",
              "      <th>reviewCreatedVersion</th>\n",
              "      <th>at</th>\n",
              "      <th>replyContent</th>\n",
              "      <th>repliedAt</th>\n",
              "      <th>appVersion</th>\n",
              "    </tr>\n",
              "  </thead>\n",
              "  <tbody>\n",
              "    <tr>\n",
              "      <th>0</th>\n",
              "      <td>17579f4a-91f8-4d30-bbb0-be06c4d8b14b</td>\n",
              "      <td>Pengguna Google</td>\n",
              "      <td>https://play-lh.googleusercontent.com/EGemoI2N...</td>\n",
              "      <td>Shopee yang sekarang kualitasnya bagus tetapi ...</td>\n",
              "      <td>1</td>\n",
              "      <td>167</td>\n",
              "      <td>3.45.60</td>\n",
              "      <td>2025-03-15 13:05:26</td>\n",
              "      <td>Hi Kak Nanda  , maaf ya udah bikin kakak nggak...</td>\n",
              "      <td>2025-03-15 15:03:24</td>\n",
              "      <td>3.45.60</td>\n",
              "    </tr>\n",
              "    <tr>\n",
              "      <th>1</th>\n",
              "      <td>1fe8a0f9-9aa2-47cd-9a6c-660e64a47552</td>\n",
              "      <td>Pengguna Google</td>\n",
              "      <td>https://play-lh.googleusercontent.com/EGemoI2N...</td>\n",
              "      <td>Apk belanja yang mudah dan beragam pilihan tok...</td>\n",
              "      <td>4</td>\n",
              "      <td>11</td>\n",
              "      <td>3.45.60</td>\n",
              "      <td>2025-03-16 04:29:12</td>\n",
              "      <td>Hi Kak Abdul, terima kasih untuk feedbacknya.\\...</td>\n",
              "      <td>2025-03-16 05:32:13</td>\n",
              "      <td>3.45.60</td>\n",
              "    </tr>\n",
              "    <tr>\n",
              "      <th>2</th>\n",
              "      <td>bdf64f03-3253-4341-93cc-869809e8e8a0</td>\n",
              "      <td>Pengguna Google</td>\n",
              "      <td>https://play-lh.googleusercontent.com/EGemoI2N...</td>\n",
              "      <td>Tidak bisa melakukan pembayaran listrik, dan p...</td>\n",
              "      <td>1</td>\n",
              "      <td>69</td>\n",
              "      <td>3.45.60</td>\n",
              "      <td>2025-03-15 14:16:55</td>\n",
              "      <td>Hai kak ichan, maaf ya udh bikin ga nyaman. Ak...</td>\n",
              "      <td>2025-03-15 16:20:52</td>\n",
              "      <td>3.45.60</td>\n",
              "    </tr>\n",
              "    <tr>\n",
              "      <th>3</th>\n",
              "      <td>534598cc-6c6c-41b0-8825-72f4fbf3dc22</td>\n",
              "      <td>Pengguna Google</td>\n",
              "      <td>https://play-lh.googleusercontent.com/EGemoI2N...</td>\n",
              "      <td>Sudah dua bulan, setiap buka langsung diarahin...</td>\n",
              "      <td>1</td>\n",
              "      <td>71</td>\n",
              "      <td>3.45.60</td>\n",
              "      <td>2025-03-15 05:13:35</td>\n",
              "      <td>Hi kak Tia Monika, maaf ya udah bikin km ga ny...</td>\n",
              "      <td>2025-03-15 06:15:36</td>\n",
              "      <td>3.45.60</td>\n",
              "    </tr>\n",
              "    <tr>\n",
              "      <th>4</th>\n",
              "      <td>98ed0c43-86a4-4c02-bae5-7281c9031cb5</td>\n",
              "      <td>Pengguna Google</td>\n",
              "      <td>https://play-lh.googleusercontent.com/EGemoI2N...</td>\n",
              "      <td>Aplikasi paling ga jelas, hp ku restart ulang ...</td>\n",
              "      <td>1</td>\n",
              "      <td>39</td>\n",
              "      <td>3.45.60</td>\n",
              "      <td>2025-03-15 08:03:40</td>\n",
              "      <td>None</td>\n",
              "      <td>NaT</td>\n",
              "      <td>3.45.60</td>\n",
              "    </tr>\n",
              "  </tbody>\n",
              "</table>\n",
              "</div>\n",
              "    <div class=\"colab-df-buttons\">\n",
              "\n",
              "  <div class=\"colab-df-container\">\n",
              "    <button class=\"colab-df-convert\" onclick=\"convertToInteractive('df-2c204fb6-481c-4194-946f-ae92cc63c543')\"\n",
              "            title=\"Convert this dataframe to an interactive table.\"\n",
              "            style=\"display:none;\">\n",
              "\n",
              "  <svg xmlns=\"http://www.w3.org/2000/svg\" height=\"24px\" viewBox=\"0 -960 960 960\">\n",
              "    <path d=\"M120-120v-720h720v720H120Zm60-500h600v-160H180v160Zm220 220h160v-160H400v160Zm0 220h160v-160H400v160ZM180-400h160v-160H180v160Zm440 0h160v-160H620v160ZM180-180h160v-160H180v160Zm440 0h160v-160H620v160Z\"/>\n",
              "  </svg>\n",
              "    </button>\n",
              "\n",
              "  <style>\n",
              "    .colab-df-container {\n",
              "      display:flex;\n",
              "      gap: 12px;\n",
              "    }\n",
              "\n",
              "    .colab-df-convert {\n",
              "      background-color: #E8F0FE;\n",
              "      border: none;\n",
              "      border-radius: 50%;\n",
              "      cursor: pointer;\n",
              "      display: none;\n",
              "      fill: #1967D2;\n",
              "      height: 32px;\n",
              "      padding: 0 0 0 0;\n",
              "      width: 32px;\n",
              "    }\n",
              "\n",
              "    .colab-df-convert:hover {\n",
              "      background-color: #E2EBFA;\n",
              "      box-shadow: 0px 1px 2px rgba(60, 64, 67, 0.3), 0px 1px 3px 1px rgba(60, 64, 67, 0.15);\n",
              "      fill: #174EA6;\n",
              "    }\n",
              "\n",
              "    .colab-df-buttons div {\n",
              "      margin-bottom: 4px;\n",
              "    }\n",
              "\n",
              "    [theme=dark] .colab-df-convert {\n",
              "      background-color: #3B4455;\n",
              "      fill: #D2E3FC;\n",
              "    }\n",
              "\n",
              "    [theme=dark] .colab-df-convert:hover {\n",
              "      background-color: #434B5C;\n",
              "      box-shadow: 0px 1px 3px 1px rgba(0, 0, 0, 0.15);\n",
              "      filter: drop-shadow(0px 1px 2px rgba(0, 0, 0, 0.3));\n",
              "      fill: #FFFFFF;\n",
              "    }\n",
              "  </style>\n",
              "\n",
              "    <script>\n",
              "      const buttonEl =\n",
              "        document.querySelector('#df-2c204fb6-481c-4194-946f-ae92cc63c543 button.colab-df-convert');\n",
              "      buttonEl.style.display =\n",
              "        google.colab.kernel.accessAllowed ? 'block' : 'none';\n",
              "\n",
              "      async function convertToInteractive(key) {\n",
              "        const element = document.querySelector('#df-2c204fb6-481c-4194-946f-ae92cc63c543');\n",
              "        const dataTable =\n",
              "          await google.colab.kernel.invokeFunction('convertToInteractive',\n",
              "                                                    [key], {});\n",
              "        if (!dataTable) return;\n",
              "\n",
              "        const docLinkHtml = 'Like what you see? Visit the ' +\n",
              "          '<a target=\"_blank\" href=https://colab.research.google.com/notebooks/data_table.ipynb>data table notebook</a>'\n",
              "          + ' to learn more about interactive tables.';\n",
              "        element.innerHTML = '';\n",
              "        dataTable['output_type'] = 'display_data';\n",
              "        await google.colab.output.renderOutput(dataTable, element);\n",
              "        const docLink = document.createElement('div');\n",
              "        docLink.innerHTML = docLinkHtml;\n",
              "        element.appendChild(docLink);\n",
              "      }\n",
              "    </script>\n",
              "  </div>\n",
              "\n",
              "\n",
              "<div id=\"df-751c809a-ff9d-4ef0-a9c7-e0b9c81b0e08\">\n",
              "  <button class=\"colab-df-quickchart\" onclick=\"quickchart('df-751c809a-ff9d-4ef0-a9c7-e0b9c81b0e08')\"\n",
              "            title=\"Suggest charts\"\n",
              "            style=\"display:none;\">\n",
              "\n",
              "<svg xmlns=\"http://www.w3.org/2000/svg\" height=\"24px\"viewBox=\"0 0 24 24\"\n",
              "     width=\"24px\">\n",
              "    <g>\n",
              "        <path d=\"M19 3H5c-1.1 0-2 .9-2 2v14c0 1.1.9 2 2 2h14c1.1 0 2-.9 2-2V5c0-1.1-.9-2-2-2zM9 17H7v-7h2v7zm4 0h-2V7h2v10zm4 0h-2v-4h2v4z\"/>\n",
              "    </g>\n",
              "</svg>\n",
              "  </button>\n",
              "\n",
              "<style>\n",
              "  .colab-df-quickchart {\n",
              "      --bg-color: #E8F0FE;\n",
              "      --fill-color: #1967D2;\n",
              "      --hover-bg-color: #E2EBFA;\n",
              "      --hover-fill-color: #174EA6;\n",
              "      --disabled-fill-color: #AAA;\n",
              "      --disabled-bg-color: #DDD;\n",
              "  }\n",
              "\n",
              "  [theme=dark] .colab-df-quickchart {\n",
              "      --bg-color: #3B4455;\n",
              "      --fill-color: #D2E3FC;\n",
              "      --hover-bg-color: #434B5C;\n",
              "      --hover-fill-color: #FFFFFF;\n",
              "      --disabled-bg-color: #3B4455;\n",
              "      --disabled-fill-color: #666;\n",
              "  }\n",
              "\n",
              "  .colab-df-quickchart {\n",
              "    background-color: var(--bg-color);\n",
              "    border: none;\n",
              "    border-radius: 50%;\n",
              "    cursor: pointer;\n",
              "    display: none;\n",
              "    fill: var(--fill-color);\n",
              "    height: 32px;\n",
              "    padding: 0;\n",
              "    width: 32px;\n",
              "  }\n",
              "\n",
              "  .colab-df-quickchart:hover {\n",
              "    background-color: var(--hover-bg-color);\n",
              "    box-shadow: 0 1px 2px rgba(60, 64, 67, 0.3), 0 1px 3px 1px rgba(60, 64, 67, 0.15);\n",
              "    fill: var(--button-hover-fill-color);\n",
              "  }\n",
              "\n",
              "  .colab-df-quickchart-complete:disabled,\n",
              "  .colab-df-quickchart-complete:disabled:hover {\n",
              "    background-color: var(--disabled-bg-color);\n",
              "    fill: var(--disabled-fill-color);\n",
              "    box-shadow: none;\n",
              "  }\n",
              "\n",
              "  .colab-df-spinner {\n",
              "    border: 2px solid var(--fill-color);\n",
              "    border-color: transparent;\n",
              "    border-bottom-color: var(--fill-color);\n",
              "    animation:\n",
              "      spin 1s steps(1) infinite;\n",
              "  }\n",
              "\n",
              "  @keyframes spin {\n",
              "    0% {\n",
              "      border-color: transparent;\n",
              "      border-bottom-color: var(--fill-color);\n",
              "      border-left-color: var(--fill-color);\n",
              "    }\n",
              "    20% {\n",
              "      border-color: transparent;\n",
              "      border-left-color: var(--fill-color);\n",
              "      border-top-color: var(--fill-color);\n",
              "    }\n",
              "    30% {\n",
              "      border-color: transparent;\n",
              "      border-left-color: var(--fill-color);\n",
              "      border-top-color: var(--fill-color);\n",
              "      border-right-color: var(--fill-color);\n",
              "    }\n",
              "    40% {\n",
              "      border-color: transparent;\n",
              "      border-right-color: var(--fill-color);\n",
              "      border-top-color: var(--fill-color);\n",
              "    }\n",
              "    60% {\n",
              "      border-color: transparent;\n",
              "      border-right-color: var(--fill-color);\n",
              "    }\n",
              "    80% {\n",
              "      border-color: transparent;\n",
              "      border-right-color: var(--fill-color);\n",
              "      border-bottom-color: var(--fill-color);\n",
              "    }\n",
              "    90% {\n",
              "      border-color: transparent;\n",
              "      border-bottom-color: var(--fill-color);\n",
              "    }\n",
              "  }\n",
              "</style>\n",
              "\n",
              "  <script>\n",
              "    async function quickchart(key) {\n",
              "      const quickchartButtonEl =\n",
              "        document.querySelector('#' + key + ' button');\n",
              "      quickchartButtonEl.disabled = true;  // To prevent multiple clicks.\n",
              "      quickchartButtonEl.classList.add('colab-df-spinner');\n",
              "      try {\n",
              "        const charts = await google.colab.kernel.invokeFunction(\n",
              "            'suggestCharts', [key], {});\n",
              "      } catch (error) {\n",
              "        console.error('Error during call to suggestCharts:', error);\n",
              "      }\n",
              "      quickchartButtonEl.classList.remove('colab-df-spinner');\n",
              "      quickchartButtonEl.classList.add('colab-df-quickchart-complete');\n",
              "    }\n",
              "    (() => {\n",
              "      let quickchartButtonEl =\n",
              "        document.querySelector('#df-751c809a-ff9d-4ef0-a9c7-e0b9c81b0e08 button');\n",
              "      quickchartButtonEl.style.display =\n",
              "        google.colab.kernel.accessAllowed ? 'block' : 'none';\n",
              "    })();\n",
              "  </script>\n",
              "</div>\n",
              "\n",
              "    </div>\n",
              "  </div>\n"
            ],
            "application/vnd.google.colaboratory.intrinsic+json": {
              "type": "dataframe",
              "variable_name": "df_shopee",
              "summary": "{\n  \"name\": \"df_shopee\",\n  \"rows\": 5000,\n  \"fields\": [\n    {\n      \"column\": \"reviewId\",\n      \"properties\": {\n        \"dtype\": \"string\",\n        \"num_unique_values\": 5000,\n        \"samples\": [\n          \"7672d26a-6e39-44cf-bcd8-c0e1184fad6e\",\n          \"f2956ae2-48ff-493c-bbae-d3334b70ed77\",\n          \"f6a82c31-a867-4150-8d9c-21b2815e41ab\"\n        ],\n        \"semantic_type\": \"\",\n        \"description\": \"\"\n      }\n    },\n    {\n      \"column\": \"userName\",\n      \"properties\": {\n        \"dtype\": \"category\",\n        \"num_unique_values\": 500,\n        \"samples\": [\n          \"The Boss Rawit\",\n          \"Ilham MLT\",\n          \"arief fai\"\n        ],\n        \"semantic_type\": \"\",\n        \"description\": \"\"\n      }\n    },\n    {\n      \"column\": \"userImage\",\n      \"properties\": {\n        \"dtype\": \"category\",\n        \"num_unique_values\": 500,\n        \"samples\": [\n          \"https://play-lh.googleusercontent.com/a-/ALV-UjX2Eu1kBH_H7r_3v355v5bRn1cHDqTA0U2OIsgyNbuQfjCXkqrLVg\",\n          \"https://play-lh.googleusercontent.com/a-/ALV-UjXkknXS3RpgccR2BGKEJZ8pW_Pzxu7RSriSdMKTbxCx4GDTCAae\",\n          \"https://play-lh.googleusercontent.com/a-/ALV-UjWZoDkQENC22MKJTNIz-pRWDIq1RfrEssK9wT2fPHXiJDwQYyA\"\n        ],\n        \"semantic_type\": \"\",\n        \"description\": \"\"\n      }\n    },\n    {\n      \"column\": \"content\",\n      \"properties\": {\n        \"dtype\": \"string\",\n        \"num_unique_values\": 5000,\n        \"samples\": [\n          \"Shopee menjadi aplikasi belaja online favorit. Mntap dan memuaskan. Tapi ada sedikit kecewa dg paylater/spinjam saya yg di bekukan. Padahal semua angsuran pay later atau spinjam saya sudah lunas hampir dari setahun yg lalu. Blokir/beku gak di buka-buka sampai saat ini.\",\n          \"Paling gasuka tuh karena iklannya, apaan banget ganggu banget. Klo muncul iklan tb2 tanda silang nya jd kecil banget, ga ngotak pdhl udh didownload sgitu nya? ganggu banget.\",\n          \"Barang yg di order bulan12 2024 di kembalikan ke penjual. Walau masa waktu pengiriman habis, aku tetap menunggu.. Tapi SPX TDK mau mengantar... Cod saya jadi blokir ...saya sangat kecewa...\"\n        ],\n        \"semantic_type\": \"\",\n        \"description\": \"\"\n      }\n    },\n    {\n      \"column\": \"score\",\n      \"properties\": {\n        \"dtype\": \"number\",\n        \"std\": 1,\n        \"min\": 1,\n        \"max\": 5,\n        \"num_unique_values\": 5,\n        \"samples\": [\n          4,\n          3,\n          2\n        ],\n        \"semantic_type\": \"\",\n        \"description\": \"\"\n      }\n    },\n    {\n      \"column\": \"thumbsUpCount\",\n      \"properties\": {\n        \"dtype\": \"number\",\n        \"std\": 182,\n        \"min\": 0,\n        \"max\": 6544,\n        \"num_unique_values\": 294,\n        \"samples\": [\n          42,\n          54,\n          35\n        ],\n        \"semantic_type\": \"\",\n        \"description\": \"\"\n      }\n    },\n    {\n      \"column\": \"reviewCreatedVersion\",\n      \"properties\": {\n        \"dtype\": \"category\",\n        \"num_unique_values\": 28,\n        \"samples\": [\n          \"3.41.45\",\n          \"3.39.15\",\n          \"3.42.24\"\n        ],\n        \"semantic_type\": \"\",\n        \"description\": \"\"\n      }\n    },\n    {\n      \"column\": \"at\",\n      \"properties\": {\n        \"dtype\": \"date\",\n        \"min\": \"2024-10-02 02:21:20\",\n        \"max\": \"2025-03-17 08:18:16\",\n        \"num_unique_values\": 4998,\n        \"samples\": [\n          \"2025-02-23 13:09:53\",\n          \"2025-01-07 13:52:24\",\n          \"2025-01-13 05:15:08\"\n        ],\n        \"semantic_type\": \"\",\n        \"description\": \"\"\n      }\n    },\n    {\n      \"column\": \"replyContent\",\n      \"properties\": {\n        \"dtype\": \"string\",\n        \"num_unique_values\": 3795,\n        \"samples\": [\n          \"Hai kak Setya Alfitrah, maaf ya udah buat ga nyaman terkait kendala aplikasi kakak, aku infoin kakak bisa pastiin udah update ke versi terbaru, jaringan internet kakak stabil dan coba secara berkala ya kak, kalau masih berkendala, jangan sungkan untuk chat aku ke DM IG @shopee_id ya kak. Selamat Beraktivitas ^SV\",\n          \"Hi kak Sitiwasiqotul Maghfiroh, maaf buat kamu ga nyaman terkait kendala yg kamu alami. Aku saranin kamu bisa clear cache, update aplikasi ke versi terbaru, pastikan jaringan kamu stabil ya dan coba berkala dalam 1x24 jam. Kalau masih kendala jangan sungkan DM aku di Instagram @Shopee_ID yang bercentang biru yaa kak, sehat selalu kak ^SM\",\n          \"Hi kak alays ari, maaf ya udah buat kecewa. Shopee selalu memberikan pelayanan yg terbaik untuk semua pengguna. Agar bisa aku bantu pengecekan kendalanya, kakak bisa infoin ke aku di DM @Shopee_id / @shopeecare_id ditunggu ya kak, Sehat selalu ^CP\"\n        ],\n        \"semantic_type\": \"\",\n        \"description\": \"\"\n      }\n    },\n    {\n      \"column\": \"repliedAt\",\n      \"properties\": {\n        \"dtype\": \"date\",\n        \"min\": \"2017-12-05 03:18:37\",\n        \"max\": \"2025-03-17 04:30:11\",\n        \"num_unique_values\": 4478,\n        \"samples\": [\n          \"2025-01-09 09:17:48\",\n          \"2025-03-07 23:22:01\",\n          \"2024-12-28 13:19:39\"\n        ],\n        \"semantic_type\": \"\",\n        \"description\": \"\"\n      }\n    },\n    {\n      \"column\": \"appVersion\",\n      \"properties\": {\n        \"dtype\": \"category\",\n        \"num_unique_values\": 28,\n        \"samples\": [\n          \"3.41.45\",\n          \"3.39.15\",\n          \"3.42.24\"\n        ],\n        \"semantic_type\": \"\",\n        \"description\": \"\"\n      }\n    }\n  ]\n}"
            }
          },
          "metadata": {},
          "execution_count": 9
        }
      ]
    },
    {
      "cell_type": "markdown",
      "source": [
        "Menyimpan Data dengan Encoding UTF-8"
      ],
      "metadata": {
        "id": "o5jNeFErgA3L"
      }
    },
    {
      "cell_type": "code",
      "source": [
        "df_shopee.to_csv(\"shopee_review_scraped.csv\", index=False, encoding=\"utf-8\")\n",
        "print(\"Data saved successfully!\")"
      ],
      "metadata": {
        "colab": {
          "base_uri": "https://localhost:8080/"
        },
        "id": "vV5ALdyzgBPs",
        "outputId": "0fb35ccd-f7d2-4387-cd3f-3e4c606bccdb"
      },
      "execution_count": null,
      "outputs": [
        {
          "output_type": "stream",
          "name": "stdout",
          "text": [
            "Data saved successfully!\n"
          ]
        }
      ]
    }
  ]
}